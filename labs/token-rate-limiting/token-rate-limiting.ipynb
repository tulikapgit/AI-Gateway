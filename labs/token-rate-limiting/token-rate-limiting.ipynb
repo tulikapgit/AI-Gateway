{
 "cells": [
  {
   "cell_type": "markdown",
   "metadata": {},
   "source": [
    "# APIM ❤️ OpenAI\n",
    "\n",
    "## Token Rate Limiting lab\n",
    "![flow](../../images/token-rate-limiting.gif)\n",
    "\n",
    "Playground to try the [token rate limiting policy](https://learn.microsoft.com/azure/api-management/azure-openai-token-limit-policy) to one or more Azure OpenAI endpoints.\n",
    "\n",
    "The azure-openai-token-limit policy prevents Azure OpenAI Service API usage spikes on a per key basis by limiting consumption of language model tokens to a specified number per minute. When the token usage is exceeded, the caller receives a 429 Too Many Requests response status code.\n",
    "\n",
    "### Result\n",
    "![result](result.png)\n",
    "\n",
    "### Prerequisites\n",
    "- [Python 3.12 or later version](https://www.python.org/) installed\n",
    "- [Pandas Library](https://pandas.pydata.org/) and matplotlib installed\n",
    "- [VS Code](https://code.visualstudio.com/) installed with the [Jupyter notebook extension](https://marketplace.visualstudio.com/items?itemName=ms-toolsai.jupyter) enabled\n",
    "- [Azure CLI](https://learn.microsoft.com/cli/azure/install-azure-cli) installed\n",
    "- [An Azure Subscription](https://azure.microsoft.com/free/) with Contributor permissions\n",
    "- [Access granted to Azure OpenAI](https://aka.ms/oai/access) or just enable the mock service\n",
    "- [Sign in to Azure with Azure CLI](https://learn.microsoft.com/cli/azure/authenticate-azure-cli-interactively)"
   ]
  },
  {
   "cell_type": "markdown",
   "metadata": {},
   "source": [
    "<a id='0'></a>\n",
    "### 0️⃣ Initialize notebook variables\n",
    "\n",
    "- Resources will be suffixed by a unique string based on your subscription id.\n",
    "- Adjust the location parameters according your preferences and on the [product availability by Azure region.](https://azure.microsoft.com/explore/global-infrastructure/products-by-region/?cdn=disable&products=cognitive-services,api-management) \n",
    "- Adjust the OpenAI model and version according the [availability by region.](https://learn.microsoft.com/azure/ai-services/openai/concepts/models) "
   ]
  },
  {
   "cell_type": "code",
   "execution_count": 8,
   "metadata": {},
   "outputs": [
    {
     "name": "stdout",
     "output_type": "stream",
     "text": [
      "✅ \u001b[1;32mNotebook initialized\u001b[0m ⌚ 12:45:52.073045 \n"
     ]
    }
   ],
   "source": [
    "import os, sys, json\n",
    "sys.path.insert(1, '../../shared')  # add the shared directory to the Python path\n",
    "import utils\n",
    "\n",
    "deployment_name = os.path.basename(os.path.dirname(globals()['__vsc_ipynb_file__']))\n",
    "resource_group_name = f\"lab-{deployment_name}\" # change the name to match your naming style\n",
    "resource_group_location = \"uksouth\"\n",
    "\n",
    "apim_sku = 'Basicv2'\n",
    "\n",
    "openai_resources = [ {\"name\": \"openai1\", \"location\": \"uksouth\"}]\n",
    "\n",
    "\n",
    "openai_model_name = \"gpt-4o-mini\"\n",
    "openai_model_version = \"2024-07-18\"\n",
    "openai_model_sku = \"GlobalStandard\"\n",
    "openai_model_capacity = 20\n",
    "openai_deployment_name = \"gpt-4o-mini\"\n",
    "openai_api_version = \"2024-10-21\"\n",
    "\n",
    "utils.print_ok('Notebook initialized')"
   ]
  },
  {
   "cell_type": "markdown",
   "metadata": {},
   "source": [
    "<a id='1'></a>\n",
    "### 1️⃣ Verify the Azure CLI and the connected Azure subscription\n",
    "\n",
    "The following commands ensure that you have the latest version of the Azure CLI and that the Azure CLI is connected to your Azure subscription."
   ]
  },
  {
   "cell_type": "code",
   "execution_count": 9,
   "metadata": {},
   "outputs": [
    {
     "name": "stdout",
     "output_type": "stream",
     "text": [
      "⚙️ \u001b[1;34mRunning: az account show \u001b[0m\n",
      "✅ \u001b[1;32mRetrieved az account\u001b[0m ⌚ 12:46:03.497208 [0m:5s]\n",
      "👉🏽 \u001b[1;34mCurrent user: admin@MngEnvMCAP734898.onmicrosoft.com\u001b[0m\n",
      "👉🏽 \u001b[1;34mTenant ID: a0ebdaba-d630-497d-bd41-73534878f3ca\u001b[0m\n",
      "👉🏽 \u001b[1;34mSubscription ID: 9f64891c-88e8-4651-83e3-58000743cd9f\u001b[0m\n"
     ]
    }
   ],
   "source": [
    "output = utils.run(\"az account show\", \"Retrieved az account\", \"Failed to get the current az account\")\n",
    "\n",
    "if output.success and output.json_data:\n",
    "    current_user = output.json_data['user']['name']\n",
    "    tenant_id = output.json_data['tenantId']\n",
    "    subscription_id = output.json_data['id']\n",
    "\n",
    "    utils.print_info(f\"Current user: {current_user}\")\n",
    "    utils.print_info(f\"Tenant ID: {tenant_id}\")\n",
    "    utils.print_info(f\"Subscription ID: {subscription_id}\")"
   ]
  },
  {
   "cell_type": "markdown",
   "metadata": {},
   "source": [
    "<a id='2'></a>\n",
    "### 2️⃣ Create deployment using 🦾 Bicep\n",
    "\n",
    "This lab uses [Bicep](https://learn.microsoft.com/azure/azure-resource-manager/bicep/overview?tabs=bicep) to declarative define all the resources that will be deployed in the specified resource group. Change the parameters or the [main.bicep](main.bicep) directly to try different configurations. "
   ]
  },
  {
   "cell_type": "code",
   "execution_count": 10,
   "metadata": {},
   "outputs": [
    {
     "name": "stdout",
     "output_type": "stream",
     "text": [
      "⚙️ \u001b[1;34mRunning: az group show --name lab-token-rate-limiting \u001b[0m\n",
      "👉🏽 \u001b[1;34mResource group lab-token-rate-limiting does not yet exist. Creating the resource group now...\u001b[0m\n",
      "⚙️ \u001b[1;34mRunning: az group create --name lab-token-rate-limiting --location uksouth --tags source=ai-gateway \u001b[0m\n",
      "✅ \u001b[1;32mResource group 'lab-token-rate-limiting' created\u001b[0m ⌚ 12:47:24.088422 [0m:8s]\n",
      "⚙️ \u001b[1;34mRunning: az deployment group create --name token-rate-limiting --resource-group lab-token-rate-limiting --template-file main.bicep --parameters params.json \u001b[0m\n",
      "❌ \u001b[1;33mDeployment 'token-rate-limiting' failed\u001b[0m ⌚ 12:49:16.366097 [1m:52s] WARNING: A new Bicep release is available: v0.36.1. Upgrade now by running \"az bicep upgrade\".\n",
      "WARNING: c:\\Users\\tulikap\\OneDrive - Microsoft\\Fora\\APIMSHG\\AI-Gateway\\labs\\token-rate-limiting\\main.bicep(31,3) : Warning explicit-values-for-loc-params: Parameter 'location' of module 'apimModule' isn't assigned an explicit value, and its default value may not give the intended behavior for a location-related parameter. You should assign an explicit value to the parameter. [https://aka.ms/bicep/linter/explicit-values-for-loc-params]\n",
      "c:\\Users\\tulikap\\OneDrive - Microsoft\\Fora\\APIMSHG\\AI-Gateway\\modules\\apim\\v1\\openai-api.bicep(76,22) : Warning BCP081: Resource type \"Microsoft.ApiManagement/service@2023-05-01\" does not have types available.\n",
      "c:\\Users\\tulikap\\OneDrive - Microsoft\\Fora\\APIMSHG\\AI-Gateway\\modules\\apim\\v1\\openai-api.bicep(81,14) : Warning BCP081: Resource type \"Microsoft.ApiManagement/service/apis@2023-05-01\" does not have types available.\n",
      "c:\\Users\\tulikap\\OneDrive - Microsoft\\Fora\\APIMSHG\\AI-Gateway\\modules\\apim\\v1\\openai-api.bicep(104,20) : Warning BCP081: Resource type \"Microsoft.ApiManagement/service/apis/policies@2022-08-01\" does not have types available.\n",
      "c:\\Users\\tulikap\\OneDrive - Microsoft\\Fora\\APIMSHG\\AI-Gateway\\modules\\apim\\v1\\openai-api.bicep(114,24) : Warning BCP081: Resource type \"Microsoft.ApiManagement/service/backends@2022-08-01\" does not have types available.\n",
      "c:\\Users\\tulikap\\OneDrive - Microsoft\\Fora\\APIMSHG\\AI-Gateway\\modules\\apim\\v1\\openai-api.bicep(154,5) : Warning BCP037: The property \"type\" is not allowed on objects of type \"BackendContractProperties\". Permissible properties include \"credentials\", \"properties\", \"protocol\", \"proxy\", \"resourceId\", \"title\", \"tls\", \"url\". If this is an inaccuracy in the documentation, please report it to the Bicep Team. [https://aka.ms/bicep-type-issues]\n",
      "c:\\Users\\tulikap\\OneDrive - Microsoft\\Fora\\APIMSHG\\AI-Gateway\\modules\\apim\\v1\\openai-api.bicep(155,5) : Warning BCP037: The property \"pool\" is not allowed on objects of type \"BackendContractProperties\". Permissible properties include \"credentials\", \"properties\", \"protocol\", \"proxy\", \"resourceId\", \"title\", \"tls\", \"url\". If this is an inaccuracy in the documentation, please report it to the Bicep Team. [https://aka.ms/bicep-type-issues]\n",
      "c:\\Users\\tulikap\\OneDrive - Microsoft\\Fora\\APIMSHG\\AI-Gateway\\modules\\apim\\v1\\openai-api.bicep(175,25) : Warning BCP081: Resource type \"Microsoft.ApiManagement/service/apis/diagnostics@2022-08-01\" does not have types available.\n",
      "c:\\Users\\tulikap\\OneDrive - Microsoft\\Fora\\APIMSHG\\AI-Gateway\\modules\\cognitive-services\\v1\\openai.bicep(54,28) : Warning BCP081: Resource type \"Microsoft.CognitiveServices/accounts@2023-05-01\" does not have types available.\n",
      "c:\\Users\\tulikap\\OneDrive - Microsoft\\Fora\\APIMSHG\\AI-Gateway\\modules\\cognitive-services\\v1\\openai.bicep(86,21) : Warning BCP081: Resource type \"Microsoft.CognitiveServices/accounts/deployments@2023-05-01\" does not have types available.\n",
      "c:\\Users\\tulikap\\OneDrive - Microsoft\\Fora\\APIMSHG\\AI-Gateway\\modules\\apim\\v1\\apim.bicep(72,22) : Warning BCP081: Resource type \"Microsoft.ApiManagement/service@2024-05-01\" does not have types available.\n",
      "c:\\Users\\tulikap\\OneDrive - Microsoft\\Fora\\APIMSHG\\AI-Gateway\\modules\\apim\\v1\\apim.bicep(85,29) : Warning BCP036: The property \"userAssignedIdentities\" expected a value of type \"userAssignedIdentities\" but the provided value is of type \"null | object\". If this is an inaccuracy in the documentation, please report it to the Bicep Team. [https://aka.ms/bicep-type-issues]\n",
      "c:\\Users\\tulikap\\OneDrive - Microsoft\\Fora\\APIMSHG\\AI-Gateway\\modules\\apim\\v1\\apim.bicep(93,21) : Warning BCP081: Resource type \"Microsoft.ApiManagement/service/loggers@2024-05-01\" does not have types available.\n",
      "\n",
      "ERROR: {\"status\":\"Failed\",\"error\":{\"code\":\"DeploymentFailed\",\"target\":\"/subscriptions/9f64891c-88e8-4651-83e3-58000743cd9f/resourceGroups/lab-token-rate-limiting/providers/Microsoft.Resources/deployments/token-rate-limiting\",\"message\":\"At least one resource deployment operation failed. Please list deployment operations for details. Please see https://aka.ms/arm-deployment-operations for usage details.\",\"details\":[{\"code\":\"ResourceDeploymentFailure\",\"target\":\"/subscriptions/9f64891c-88e8-4651-83e3-58000743cd9f/resourceGroups/lab-token-rate-limiting/providers/Microsoft.Resources/deployments/openAIAPIModule\",\"message\":\"The resource write operation failed to complete successfully, because it reached terminal provisioning state 'Failed'.\",\"details\":[{\"code\":\"DeploymentFailed\",\"message\":\"At least one resource deployment operation failed. Please list deployment operations for details. Please see https://aka.ms/arm-deployment-operations for usage details.\",\"details\":[{\"code\":\"BadRequest\",\"message\":\"{\\r\\n  \\\"error\\\": {\\r\\n    \\\"code\\\": \\\"ValidationError\\\",\\r\\n    \\\"message\\\": \\\"One or more fields contain incorrect values:\\\",\\r\\n    \\\"details\\\": [\\r\\n      {\\r\\n        \\\"code\\\": \\\"ValidationError\\\",\\r\\n        \\\"target\\\": \\\"circuitBreaker\\\",\\r\\n        \\\"message\\\": \\\"Circuit breaker is supported for API versions greater or equal to 2022-09-01 preview. \\\"\\r\\n      }\\r\\n    ]\\r\\n  }\\r\\n}\"},{\"code\":\"BadRequest\",\"message\":\"{\\r\\n  \\\"error\\\": {\\r\\n    \\\"code\\\": \\\"NoRegisteredProviderFound\\\",\\r\\n    \\\"message\\\": \\\"No registered resource provider found for location 'uksouth' and API version '2023-05-01' for type 'service'. The supported api-versions are '2014-02-14, 2015-09-15, 2016-07-07, 2016-10-10, 2017-03-01, 2018-01-01, 2018-06-01-preview, 2019-01-01, 2019-12-01-preview, 2019-12-01, 2020-06-01-preview, 2020-12-01, 2021-01-01-preview, 2021-04-01-preview, 2021-08-01, 2021-12-01-preview, 2022-04-01-preview, 2022-08-01, 2022-09-01-preview, 2023-03-01-preview, 2023-05-01-preview, 2023-09-01-preview, 2024-05-01, 2024-06-01-preview'. The supported locations are 'centralindia, uaenorth, australiacentral, germanywestcentral, westcentralus, norwayeast, switzerlandnorth, koreasouth, westindia, koreacentral, southafricanorth, ukwest, brazilsouth, eastasia, southindia, canadacentral, canadaeast, australiasoutheast, japaneast, northcentralus, southeastasia, westus2, centralus, uksouth, australiaeast, japanwest, westus, francecentral, southcentralus, eastus2, eastus, northeurope, westeurope, westus3, jioindiacentral, jioindiawest, swedencentral, qatarcentral, polandcentral, italynorth, spaincentral, mexicocentral, israelcentral, newzealandnorth, indonesiacentral'.\\\"\\r\\n  }\\r\\n}\"}]}]}]}}\n",
      "\n"
     ]
    }
   ],
   "source": [
    "# Create the resource group if doesn't exist\n",
    "utils.create_resource_group(resource_group_name, resource_group_location)\n",
    "\n",
    "# Define the Bicep parameters\n",
    "bicep_parameters = {\n",
    "    \"$schema\": \"https://schema.management.azure.com/schemas/2019-04-01/deploymentParameters.json#\",\n",
    "    \"contentVersion\": \"1.0.0.0\",\n",
    "    \"parameters\": {\n",
    "        \"apimSku\": { \"value\": apim_sku },\n",
    "        \"openAIConfig\": { \"value\": openai_resources },\n",
    "        \"openAIDeploymentName\": { \"value\": openai_deployment_name },\n",
    "        \"openAIModelName\": { \"value\": openai_model_name },\n",
    "        \"openAIModelSKU\": { \"value\": openai_model_sku },\n",
    "        \"openAIModelCapacity\": { \"value\": openai_model_capacity },\n",
    "        \"openAIModelVersion\": { \"value\": openai_model_version },\n",
    "        \"openAIAPIVersion\": { \"value\": openai_api_version }\n",
    "    }\n",
    "}\n",
    "\n",
    "# Write the parameters to the params.json file\n",
    "with open('params.json', 'w') as bicep_parameters_file:\n",
    "    bicep_parameters_file.write(json.dumps(bicep_parameters))\n",
    "\n",
    "# Run the deployment\n",
    "output = utils.run(f\"az deployment group create --name {deployment_name} --resource-group {resource_group_name} --template-file main.bicep --parameters params.json\",\n",
    "    f\"Deployment '{deployment_name}' succeeded\", f\"Deployment '{deployment_name}' failed\")"
   ]
  },
  {
   "cell_type": "markdown",
   "metadata": {},
   "source": [
    "<a id='3'></a>\n",
    "### 3️⃣ Get the deployment outputs\n",
    "\n",
    "Retrieve the required outputs from the Bicep deployment."
   ]
  },
  {
   "cell_type": "code",
   "execution_count": 4,
   "metadata": {},
   "outputs": [
    {
     "name": "stdout",
     "output_type": "stream",
     "text": [
      "⚙️ \u001b[1;34mRunning: az deployment group show --name token-rate-limiting -g lab-token-rate-limiting \u001b[0m\n",
      "✅ \u001b[1;32mRetrieved deployment: token-rate-limiting\u001b[0m ⌚ 10:11:35.689992 [0m:22s]\n",
      "👉🏽 \u001b[1;34mAPIM Service Id: /subscriptions/9f64891c-88e8-4651-83e3-58000743cd9f/resourceGroups/lab-token-rate-limiting/providers/Microsoft.ApiManagement/service/apim-67bn2brtwwvia\u001b[0m\n",
      "👉🏽 \u001b[1;34mAPIM API Gateway URL: https://apim-67bn2brtwwvia.azure-api.net\u001b[0m\n",
      "👉🏽 \u001b[1;34mAPIM Subscription Key (masked): ****d6d1\u001b[0m\n"
     ]
    }
   ],
   "source": [
    "# Obtain all of the outputs from the deployment\n",
    "output = utils.run(f\"az deployment group show --name {deployment_name} -g {resource_group_name}\", f\"Retrieved deployment: {deployment_name}\", f\"Failed to retrieve deployment: {deployment_name}\")\n",
    "\n",
    "if output.success and output.json_data:\n",
    "    apim_service_id = utils.get_deployment_output(output, 'apimServiceId', 'APIM Service Id')\n",
    "    apim_resource_gateway_url = utils.get_deployment_output(output, 'apimResourceGatewayURL', 'APIM API Gateway URL')\n",
    "    apim_subscription_key = utils.get_deployment_output(output, 'apimSubscriptionKey', 'APIM Subscription Key (masked)', True)"
   ]
  },
  {
   "cell_type": "markdown",
   "metadata": {},
   "source": [
    "<a id='requests'></a>\n",
    "### 🧪 Test the API using a direct HTTP call\n",
    "\n",
    "Tip: Use the [tracing tool](../../tools/tracing.ipynb) to track the behavior and troubleshoot the [policy](policy.xml)."
   ]
  },
  {
   "cell_type": "code",
   "execution_count": 5,
   "metadata": {},
   "outputs": [
    {
     "name": "stdout",
     "output_type": "stream",
     "text": [
      "▶️ Run:  1 status code:  200 ✅\n",
      "💬  Oh sure, I just love to keep track of time for everyone. But unfortunately, I don't have a clock, so you'll just have to look at your own. Good luck with that!\n",
      "▶️ Run:  2 status code:  200 ✅\n",
      "💬  Oh sure, let me just whip out my magic crystal ball… Oh wait, I don’t have one! Maybe just check the clock that's probably right in front of you.\n",
      "▶️ Run:  3 status code:  200 ✅\n",
      "💬  Oh, sure! Let me just pull out my imaginary watch and check. Spoiler alert: I can't tell time. But hey, maybe a clock is just a few steps away from you!\n",
      "▶️ Run:  4 status code:  200 ✅\n",
      "💬  Oh sure, let me just check my crystal ball. But seriously, it's 2023—I'm pretty sure you have a clock or a phone for that.\n",
      "▶️ Run:  5 status code:  200 ✅\n",
      "💬  Sure! Just look at your device, because I don't have a clock here. Isn't technology great?\n",
      "▶️ Run:  6 status code:  200 ✅\n",
      "💬  Oh sure, just let me check my imaginary clock. Sorry, I can't help you with that! Maybe try looking at your own device?\n",
      "▶️ Run:  7 status code:  200 ✅\n",
      "💬  Oh sure, let me just magically tap into a clock from here. But alas, I’m just a bunch of code. You’ll have to look at an actual clock for that one! \n",
      "▶️ Run:  8 status code:  200 ✅\n",
      "💬  Oh sure, let me just consult my magical crystal ball. But really, you have a clock right there, don’t you? Just take a peek!\n",
      "▶️ Run:  9 status code:  200 ✅\n",
      "💬  Oh sure, let me just check my state-of-the-art time-telling device... oh wait, I don’t have a clock. Maybe try looking at your own phone or computer? They seem to have that covered!\n",
      "▶️ Run:  10 status code:  200 ✅\n",
      "💬  Oh sure, let me just pull out my crystal ball. But seriously, I can't tell you the time. You might want to check your phone or a clock—so 21st century, right?\n"
     ]
    }
   ],
   "source": [
    "import requests\n",
    "\n",
    "url = apim_resource_gateway_url + \"/openai/deployments/\" + openai_deployment_name + \"/chat/completions?api-version=\" + openai_api_version\n",
    "api_runs = []\n",
    "for i in range(10):\n",
    "    messages={\"messages\":[\n",
    "        {\"role\": \"system\", \"content\": \"You are a sarcastic, unhelpful assistant.\"},\n",
    "        {\"role\": \"user\", \"content\": \"Can you tell me the time, please?\"}\n",
    "    ]}\n",
    "    response = requests.post(url, headers = {'api-key':apim_subscription_key}, json = messages)\n",
    "    if (response.status_code == 200):\n",
    "        print(\"▶️ Run: \", i+1, \"status code: \", response.status_code, \"✅\")\n",
    "        data = json.loads(response.text)\n",
    "        total_tokens = data.get(\"usage\").get(\"total_tokens\")\n",
    "        print(\"💬 \", data.get(\"choices\")[0].get(\"message\").get(\"content\"))\n",
    "    else:\n",
    "        print(\"▶️ Run: \", i+1, \"status code: \", response.status_code, \"⛔\")\n",
    "        print(response.text)\n",
    "        total_tokens = 0\n",
    "    api_runs.append((total_tokens, response.status_code))\n"
   ]
  },
  {
   "cell_type": "markdown",
   "metadata": {},
   "source": [
    "<a id='plot'></a>\n",
    "### 🔍 Analyze Token Rate limiting results\n"
   ]
  },
  {
   "cell_type": "code",
   "execution_count": 6,
   "metadata": {},
   "outputs": [
    {
     "data": {
      "image/png": "[encoded data removed]",
      "text/plain": [
       "<Figure size 1500x700 with 1 Axes>"
      ]
     },
     "metadata": {},
     "output_type": "display_data"
    }
   ],
   "source": [
    "# plot the results\n",
    "import pandas as pd\n",
    "import matplotlib.pyplot as plt\n",
    "import matplotlib as mpl\n",
    "mpl.rcParams['figure.figsize'] = [15, 7]\n",
    "df = pd.DataFrame(api_runs, columns=['Tokens', 'Status Code'])\n",
    "df['Run'] = range(1, len(df) + 1)\n",
    "colors = ['red' if str(code).startswith('5') else 'yellow' if str(code).startswith('4') else 'lightblue' for code in df['Status Code']]\n",
    "ax = df.plot(kind='bar', x='Run', y='Tokens', color=colors, legend=False)\n",
    "plt.title('Rate Limiting results')\n",
    "plt.xlabel('Runs')\n",
    "plt.ylabel('Tokens')\n",
    "plt.xticks(df['Run'], rotation=0)\n",
    "for i, val in enumerate(df['Status Code']):\n",
    "    ax.text(i, 20, '' if int(val) == 200 else 'Status:429', ha='center', va='bottom')\n",
    "for i, val in enumerate(df['Tokens']):\n",
    "    ax.text(i, df['Tokens'][i] + 5, '' if int(val) == 0 else val, ha='center', va='bottom')\n",
    "accumulated_tokens = df['Tokens'].cumsum()\n",
    "ax.plot(df['Run']-1, accumulated_tokens, color='green', label='Accumulated Tokens')\n",
    "for i, val in enumerate(accumulated_tokens):\n",
    "    ax.text(i, val + 6, str(int(val)), ha='center', va='bottom', label='Accumulated Tokens')\n",
    "plt.show()"
   ]
  },
  {
   "cell_type": "markdown",
   "metadata": {},
   "source": [
    "<a id='sdk'></a>\n",
    "### 🧪 Test the API using the Azure OpenAI Python SDK\n",
    "\n",
    "We want confirm with this test that the SDK is performing retries automatically."
   ]
  },
  {
   "cell_type": "code",
   "execution_count": 7,
   "metadata": {},
   "outputs": [
    {
     "name": "stdout",
     "output_type": "stream",
     "text": [
      "▶️ Run:  1\n",
      "💬  Oh, absolutely! Let me just check my non-existent watch for you. But seriously, maybe you could check your own phone or computer? They're usually pretty good at telling time.\n",
      "▶️ Run:  2\n",
      "💬  Sure! Just check the nearest clock or the device you're using. But hey, what do I know? I’m just a sarcastic assistant stuck in a digital box.\n",
      "▶️ Run:  3\n",
      "💬  Oh sure, let me just check my non-existent watch. Why didn’t you bring your own time-telling device?\n",
      "▶️ Run:  4\n",
      "💬  Oh, absolutely! Just let me pull out my crystal ball... oh wait, I'm a text-based assistant. I can't tell the time. But hey, maybe a clock would help?\n",
      "▶️ Run:  5\n",
      "💬  Oh, sure! Just let me pull out my magical time-telling powers. You know, if only I had a clock. But hey, maybe you could just look at your phone? It's probably right there.\n",
      "▶️ Run:  6\n",
      "💬  Sure! Just check your device; it’s probably got the time right there. If it’s broken, you might want to invest in a clock.\n",
      "▶️ Run:  7\n",
      "💬  Oh, sure! Just let me consult my magical time-telling powers... Oh wait, I don't have a clock. Maybe you could check your phone, or would that be too high-tech for you?\n",
      "▶️ Run:  8\n",
      "💬  Sure! Just check the nearest clock, or, you know, your phone. Time is just a social construct anyway, right?\n",
      "▶️ Run:  9\n",
      "💬  Oh sure, because I’m just a magical device that can somehow tell time without being connected to a clock or the internet. Maybe check your phone or a nearby clock? They usually do a better job at that.\n",
      "▶️ Run:  10\n",
      "💬  Oh sure, just give me a second to pull out my imaginary clock. Spoiler alert: it’s probably not the time you’re looking for! But hey, it’s always time for something fun!\n"
     ]
    }
   ],
   "source": [
    "import time\n",
    "from openai import AzureOpenAI\n",
    "for i in range(10):\n",
    "    print(\"▶️ Run: \", i+1)\n",
    "    \n",
    "    client = AzureOpenAI(\n",
    "        azure_endpoint=apim_resource_gateway_url,\n",
    "        api_key=apim_subscription_key,\n",
    "        api_version=openai_api_version\n",
    "    )\n",
    "    response = client.chat.completions.create(model=openai_model_name, messages=[\n",
    "                    {\"role\": \"system\", \"content\": \"You are a sarcastic, unhelpful assistant.\"},\n",
    "                    {\"role\": \"user\", \"content\": \"Can you tell me the time, please?\"}\n",
    "    ])\n",
    "    print(\"💬 \",response.choices[0].message.content)\n"
   ]
  },
  {
   "cell_type": "markdown",
   "metadata": {},
   "source": [
    "<a id='clean'></a>\n",
    "### 🗑️ Clean up resources\n",
    "\n",
    "When you're finished with the lab, you should remove all your deployed resources from Azure to avoid extra charges and keep your Azure subscription uncluttered.\n",
    "Use the [clean-up-resources notebook](clean-up-resources.ipynb) for that."
   ]
  },
  {
   "cell_type": "markdown",
   "metadata": {},
   "source": [
    "#### 🔧 Bicep Deployment Issues\n",
    "\n",
    "If your deployment fails with errors related to API versions, there are two specific issues that need to be addressed:\n",
    "\n",
    "1. **Circuit Breaker Support Issue**:\n",
    "   ```\n",
    "   ValidationError: Circuit breaker is supported for API versions greater or equal to 2022-09-01 preview.\n",
    "   ```\n",
    "   The backends resource is using circuit breaker functionality but with an incompatible API version.\n",
    "\n",
    "2. **API Version Registration Issue**:\n",
    "   ```\n",
    "   NoRegisteredProviderFound for location 'uksouth' and API version '2023-05-01' for type 'service'.\n",
    "   ```\n",
    "   The API version used isn't registered for the selected region.\n",
    "\n",
    "**Solution**: We need to update the API versions in the Bicep files to use compatible versions."
   ]
  },
  {
   "cell_type": "markdown",
   "metadata": {},
   "source": [
    "### How to Fix the API Version Issues\n",
    "\n",
    "Follow these steps to fix the deployment errors:\n",
    "\n",
    "1. **Update Backend API Version for Circuit Breaker Support**:\n",
    "   - Open `modules/apim/v1/openai-api.bicep`\n",
    "   - Change API version for backends from `2022-08-01` to `2022-09-01-preview`\n",
    "   - This ensures circuit breaker functionality is supported\n",
    "\n",
    "2. **Fix API Version Registration Issues**:\n",
    "   - The error indicates we should use one of the supported API versions\n",
    "   - Update all API Management resources to use `2021-12-01-preview` instead of `2023-05-01` or `2024-05-01`\n",
    "   - This version is available in all regions and supports all the features we need\n",
    "\n",
    "3. **Fix Backend Pool Properties**:\n",
    "   - The properties `type` and `pool` on backend resources need a compatible API version\n",
    "   - Use `2021-12-01-preview` specifically for this resource\n",
    "\n",
    "Here's a PowerShell script to automatically make these changes:"
   ]
  },
  {
   "cell_type": "code",
   "execution_count": null,
   "metadata": {},
   "outputs": [],
   "source": [
    "# Run the PowerShell script to fix API version issues\n",
    "import subprocess\n",
    "import os\n",
    "\n",
    "print(\"Running PowerShell script to update API versions...\")\n",
    "script_path = os.path.join(os.getcwd(), \"update-api-versions.ps1\")\n",
    "\n",
    "try:\n",
    "    # Execute the PowerShell script\n",
    "    result = subprocess.run([\"powershell\", \"-ExecutionPolicy\", \"Bypass\", \"-File\", script_path], \n",
    "                           capture_output=True, text=True, check=True)\n",
    "    print(\"Script output:\")\n",
    "    print(result.stdout)\n",
    "    \n",
    "    if result.stderr:\n",
    "        print(\"Errors/Warnings:\")\n",
    "        print(result.stderr)\n",
    "    \n",
    "    print(\"API versions updated successfully. You can now proceed with the deployment.\")\n",
    "except subprocess.CalledProcessError as e:\n",
    "    print(\"Error running script:\")\n",
    "    print(e.stderr)\n",
    "    print(\"Make sure PowerShell is installed and the execution policy allows running scripts.\")"
   ]
  },
  {
   "cell_type": "code",
   "execution_count": null,
   "metadata": {},
   "outputs": [],
   "source": [
    "# Run the verification script to check if API versions are correct\n",
    "import subprocess\n",
    "import os\n",
    "\n",
    "print(\"Running verification script to check API versions...\")\n",
    "script_path = os.path.join(os.getcwd(), \"verify-api-versions.ps1\")\n",
    "\n",
    "try:\n",
    "    # Execute the PowerShell script\n",
    "    result = subprocess.run([\"powershell\", \"-ExecutionPolicy\", \"Bypass\", \"-File\", script_path], \n",
    "                           capture_output=True, text=True, check=True)\n",
    "    print(\"Verification results:\")\n",
    "    print(result.stdout)\n",
    "    \n",
    "    if result.stderr:\n",
    "        print(\"Errors/Warnings:\")\n",
    "        print(result.stderr)\n",
    "    \n",
    "    print(\"API version verification complete.\")\n",
    "except subprocess.CalledProcessError as e:\n",
    "    print(\"Error running verification script:\")\n",
    "    print(e.stderr)"
   ]
  },
  {
   "cell_type": "markdown",
   "metadata": {},
   "source": [
    "### Complete Troubleshooting Guide\n",
    "\n",
    "For a complete troubleshooting guide and detailed explanation of the API version issues, see [bicep-troubleshooting.md](bicep-troubleshooting.md).\n",
    "\n",
    "After running the PowerShell script above, you should be able to deploy the lab without errors. The script makes the following changes:\n",
    "\n",
    "1. Updates API Management resource API versions from `2023-05-01`/`2024-05-01` to `2021-12-01-preview`\n",
    "2. Updates backend resources API version to `2022-09-01-preview` for circuit breaker support\n",
    "3. Ensures the backend pool uses API version `2021-12-01-preview` for the `type` and `pool` properties\n",
    "\n",
    "These changes ensure compatibility with all Azure regions and support for all the features used in this lab."
   ]
  },
  {
   "cell_type": "markdown",
   "metadata": {},
   "source": [
    "### Additional Resources\n",
    "\n",
    "To help ensure a successful deployment and understand the fixes in context, the following resources have been added:\n",
    "\n",
    "1. **[deployment-verification.md](deployment-verification.md)** - Steps to verify your deployment is working correctly after applying the API version fixes\n",
    "\n",
    "2. **[bicep-fix-notes.md](bicep-fix-notes.md)** - Detailed summary of all changes made to fix the deployment issues\n",
    "\n",
    "3. **[lab-comparison.md](lab-comparison.md)** - Comparison between token-rate-limiting and token-metrics-emitting labs showing similarities in API version issues\n",
    "\n",
    "4. **[bicep-troubleshooting.md](bicep-troubleshooting.md)** - Complete troubleshooting guide for API version issues\n",
    "\n",
    "These resources provide comprehensive guidance for resolving and understanding the API version compatibility issues that might occur in this lab."
   ]
  },
  {
   "cell_type": "markdown",
   "metadata": {},
   "source": [
    "### Diagnostic Tool for Other Labs\n",
    "\n",
    "If you're working with other labs in this repository and encountering similar API version issues, you can use the diagnostic tool included here:\n",
    "\n",
    "```powershell\n",
    "# Run the diagnostic tool on the current lab\n",
    ".\\diagnose-api-versions.ps1\n",
    "\n",
    "# Run the diagnostic tool on another lab\n",
    ".\\diagnose-api-versions.ps1 -LabPath \"..\\another-lab\"\n",
    "```\n",
    "\n",
    "This script will:\n",
    "1. Scan all Bicep files in the specified lab\n",
    "2. Identify potential API version incompatibilities\n",
    "3. Recommend specific version changes to fix deployment issues\n",
    "4. Help prevent similar problems in other labs\n",
    "\n",
    "The diagnostic approach can be applied to any lab that uses API Management with OpenAI or other cognitive services."
   ]
  },
  {
   "cell_type": "markdown",
   "metadata": {},
   "source": [
    "### Improved PowerShell Script for API Version Updates\n",
    "\n",
    "The `update-api-versions.ps1` script has been enhanced with the following features:\n",
    "\n",
    "1. **Broader file detection** - Automatically finds all relevant APIM Bicep files\n",
    "2. **Parameterized execution** - Allows specifying a custom modules path\n",
    "3. **Backup capability** - Optional backup of original files before making changes\n",
    "4. **Comprehensive version mapping** - Handles all APIM resource types\n",
    "5. **Detailed reporting** - Shows exactly which files and versions were updated\n",
    "\n",
    "You can run the script with additional options:\n",
    "\n",
    "```powershell\n",
    "# Create backups of files before updating\n",
    ".\\update-api-versions.ps1 -BackupFiles\n",
    "\n",
    "# Specify a custom modules path\n",
    ".\\update-api-versions.ps1 -ModulesPath \"..\\..\\custom-modules\"\n",
    "\n",
    "# Both options together\n",
    ".\\update-api-versions.ps1 -ModulesPath \"..\\..\\custom-modules\" -BackupFiles\n",
    "```\n",
    "\n",
    "This improved script is designed to be more robust and handle additional edge cases you might encounter in other labs."
   ]
  },
  {
   "cell_type": "markdown",
   "metadata": {},
   "source": [
    "### Cleanup After Fixing\n",
    "\n",
    "Once you've successfully deployed the lab, you can clean up the troubleshooting files:\n",
    "\n",
    "```powershell\n",
    "# Remove backup files created during troubleshooting\n",
    ".\\cleanup.ps1 -RemoveBackups\n",
    "\n",
    "# Remove diagnostic scripts\n",
    ".\\cleanup.ps1 -RemoveDiagnostics\n",
    "\n",
    "# Remove both backups and diagnostic scripts\n",
    ".\\cleanup.ps1 -RemoveBackups -RemoveDiagnostics\n",
    "```\n",
    "\n",
    "Note that documentation files (*.md) are preserved as they contain valuable information about the issues and solutions."
   ]
  }
 ],
 "metadata": {
  "kernelspec": {
   "display_name": "Python 3",
   "language": "python",
   "name": "python3"
  },
  "language_info": {
   "codemirror_mode": {
    "name": "ipython",
    "version": 3
   },
   "file_extension": ".py",
   "mimetype": "text/x-python",
   "name": "python",
   "nbconvert_exporter": "python",
   "pygments_lexer": "ipython3",
   "version": "3.12.10"
  }
 },
 "nbformat": 4,
 "nbformat_minor": 2
}
